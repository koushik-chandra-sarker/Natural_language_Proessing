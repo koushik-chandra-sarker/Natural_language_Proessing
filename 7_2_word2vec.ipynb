{
 "cells": [
  {
   "cell_type": "code",
   "execution_count": 60,
   "metadata": {
    "collapsed": true,
    "pycharm": {
     "name": "#%%\n"
    }
   },
   "outputs": [],
   "source": [
    "import nltk\n",
    "\n",
    "# Gensim is a Python library for topic modelling, document indexing and similarity retrieval with large corpora. Target audience is the natural language processing (NLP) and information retrieval (IR) community.\n",
    "\n",
    "from gensim.models import Word2Vec # gensim is a word2vec implementation in python\n",
    "import re"
   ]
  },
  {
   "cell_type": "code",
   "execution_count": 61,
   "outputs": [],
   "source": [
    "para = '''\n",
    "    The changes in the urban landscape go mostly unnoticed compared to that in villages, especially in developing countries. The overall village scene appears with a new look after even minor changes occurring there. The rural look in Bangladesh has undergone radical transformations in the last 3-4 decades. Prior to this period, the villages virtually remained stuck in time, one that does not move.\n",
    "\n",
    "Even the period shortly after the independence of Bangladesh has not seen much perceptible change in the rural panorama. The leftovers of the past squalor from colonial and neo-colonial rules still pervaded the scene. The rural masses were trapped in extreme poverty, economic hardship and scores of deprivations coupled with deep-seated helplessness. Feuds sparked by irrational acrimony and desperation ruled the roost, so did suspicion and the tendency to become spiteful for petty reasons. The days of these maladies were a reality in the period spanning from the 1970s to the 1980s.\n",
    "\n",
    "In the days before independence, the chronic poverty in the country's villages comprised a dominant place among the common rural features. To the newer generations in the second decade of the 21st century many earlier rural scenes might seem incredible. During winters these days hardly any poor villager is found shivering in cold due to the dearth of warm clothing. Yet the whole season of winter used to be seen wear away with most of the villagers enduring the bite of cold. People wrapped in thin woolen shawl or wearing a shirt and shoes would be considered lucky or privileged. The elders' common winter wear in those days generally included a worn-out cotton 'chadar' and lungi. Most of them moved barefoot outside their homes, with an earthen pot filled with simmering bran ashes (Ailla) in their lap. Few small children owned a shirt. They would be found covered from ankle to neck with the lungis of their fathers or other elders. The upper end of the improvised winter garment remained tied in a knot at the neck. The thatched or mud-built huts were ramshackle, virtually ineffective in blocking the chilly air.\n",
    "\n",
    "Winter in most of today's Bangladesh villages is full of colours, not much different from the urban spectacles. Males wearing coats, jackets and pullovers, women covered in fancifully designed shawls are a common view. In many rural areas, makeshift dwellings have been replaced by houses built with corrugated iron sheets. These are interspersed by brick-built buildings.\n",
    "\n",
    "'''"
   ],
   "metadata": {
    "collapsed": false,
    "pycharm": {
     "name": "#%%\n"
    }
   }
  },
  {
   "cell_type": "code",
   "execution_count": 61,
   "outputs": [],
   "source": [],
   "metadata": {
    "collapsed": false,
    "pycharm": {
     "name": "#%%\n"
    }
   }
  },
  {
   "cell_type": "code",
   "execution_count": 62,
   "outputs": [],
   "source": [
    "# clean the para by regualar expression\n",
    "text = re.sub(r'\\[[0-9]*\\]', ' ', para)\n",
    "text = re.sub(r'\\s+', ' ', text)\n",
    "text = text.lower()\n",
    "text = re.sub(r'\\d+', ' ', text)\n",
    "text = re.sub(r'\\s+', ' ', text)"
   ],
   "metadata": {
    "collapsed": false,
    "pycharm": {
     "name": "#%%\n"
    }
   }
  },
  {
   "cell_type": "code",
   "execution_count": 63,
   "outputs": [],
   "source": [
    "\n",
    "# tokenize the sentences\n",
    "sentences = nltk.sent_tokenize(text)\n",
    "words = [nltk.word_tokenize(sentence) for sentence in sentences]\n"
   ],
   "metadata": {
    "collapsed": false,
    "pycharm": {
     "name": "#%%s\n"
    }
   }
  },
  {
   "cell_type": "code",
   "execution_count": 64,
   "outputs": [],
   "source": [
    "# remove stop words\n",
    "for i in range(len(words)):\n",
    "    words[i] = [word for word in words[i] if word not in nltk.corpus.stopwords.words('english')]\n"
   ],
   "metadata": {
    "collapsed": false,
    "pycharm": {
     "name": "#%%\n"
    }
   }
  },
  {
   "cell_type": "code",
   "execution_count": 65,
   "outputs": [],
   "source": [
    "# traan the word2vec model\n",
    "model = Word2Vec(words, min_count=1)"
   ],
   "metadata": {
    "collapsed": false,
    "pycharm": {
     "name": "#%%\n"
    }
   }
  },
  {
   "cell_type": "code",
   "execution_count": 81,
   "outputs": [
    {
     "data": {
      "text/plain": "array([ 9.7502070e-03,  8.1926789e-03,  1.2723766e-03,  5.1052626e-03,\n        1.4124915e-03, -6.5201335e-03, -1.3933675e-03,  6.5278257e-03,\n       -4.6696602e-03, -4.0010950e-03,  4.9233926e-03,  2.6794276e-03,\n       -1.8516511e-03, -2.8795451e-03,  5.9808106e-03, -5.7477546e-03,\n       -3.2201621e-03, -6.5247174e-03, -4.2460454e-03, -8.6610680e-03,\n       -4.4907969e-03, -8.5070319e-03,  1.4108202e-03, -8.6483825e-03,\n       -9.9407220e-03, -8.2005644e-03, -6.7757261e-03,  6.6489144e-03,\n        3.7544300e-03,  3.4951061e-04, -2.9463517e-03, -7.4375565e-03,\n        5.6546956e-04,  4.7266617e-04,  2.0326296e-04,  8.9387683e-04,\n        7.8175071e-04, -7.1007147e-05, -7.9806130e-03, -5.9171482e-03,\n       -8.3590718e-03, -1.3791053e-03,  1.8082398e-03,  7.4281627e-03,\n       -1.9573977e-03, -2.3317384e-03,  9.4608674e-03,  6.6110777e-05,\n       -2.3793622e-03,  8.6263614e-03,  2.6878349e-03, -5.3811129e-03,\n        6.6169924e-03,  4.5353384e-03, -7.0555797e-03, -2.8444899e-04,\n        8.5751800e-04,  5.7332125e-03, -1.7156707e-03, -2.7935582e-03,\n        1.7459878e-03,  8.5164775e-04,  1.2161585e-03, -2.6564552e-03,\n       -6.0233362e-03,  7.3418450e-03,  7.6368204e-03,  8.3494540e-03,\n       -8.6666420e-03,  2.6792712e-03, -3.6056170e-03,  9.6204206e-03,\n        2.9382743e-03,  4.6047932e-03,  2.4034190e-03,  6.6222856e-03,\n       -5.7551228e-03,  7.8891348e-03, -2.4683846e-03, -4.5349416e-03,\n       -2.0743718e-03,  9.7663924e-03, -6.8818773e-03, -2.1407139e-03,\n        6.9723511e-03, -6.4720720e-05, -6.3027027e-03, -6.3426150e-03,\n        8.9530470e-03,  6.4374944e-03,  4.8172614e-03, -3.2309995e-03,\n       -9.2747100e-03,  3.8184910e-03,  7.2406097e-03, -5.6150663e-03,\n       -7.8250384e-03, -2.9974405e-03, -4.9171285e-03, -2.3257358e-03],\n      dtype=float32)"
     },
     "execution_count": 81,
     "metadata": {},
     "output_type": "execute_result"
    }
   ],
   "source": [
    "vector = model.wv['independence']\n",
    "vector"
   ],
   "metadata": {
    "collapsed": false,
    "pycharm": {
     "name": "#%%\n"
    }
   }
  },
  {
   "cell_type": "code",
   "execution_count": 84,
   "outputs": [
    {
     "data": {
      "text/plain": "[('irrational', 0.3158555030822754),\n ('spanning', 0.3144017159938812),\n ('leftovers', 0.18732719123363495)]"
     },
     "execution_count": 84,
     "metadata": {},
     "output_type": "execute_result"
    }
   ],
   "source": [
    "similar = model.wv.most_similar('independence', topn=3)\n",
    "\n",
    "similar"
   ],
   "metadata": {
    "collapsed": false,
    "pycharm": {
     "name": "#%%\n"
    }
   }
  }
 ],
 "metadata": {
  "kernelspec": {
   "display_name": "Python 3",
   "language": "python",
   "name": "python3"
  },
  "language_info": {
   "codemirror_mode": {
    "name": "ipython",
    "version": 2
   },
   "file_extension": ".py",
   "mimetype": "text/x-python",
   "name": "python",
   "nbconvert_exporter": "python",
   "pygments_lexer": "ipython2",
   "version": "2.7.6"
  }
 },
 "nbformat": 4,
 "nbformat_minor": 0
}