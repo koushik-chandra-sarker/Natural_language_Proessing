{
 "cells": [
  {
   "cell_type": "markdown",
   "source": [
    "# Tokenization:\n",
    " The breaking down of text into smaller units is called tokens. tokens are a small part of that text. If we have a sentence, the idea is to separate each word and build a vocabulary such that we can represent all words uniquely in a list. Numbers, words, etc.. all fall under tokens.\n"
   ],
   "metadata": {
    "collapsed": false,
    "pycharm": {
     "name": "#%% md\n"
    }
   }
  },
  {
   "cell_type": "code",
   "execution_count": 2,
   "outputs": [],
   "source": [
    "import nltk\n",
    "# nltk.download(\"punkt\")  # if you use nltk very first in you pc then execute this line"
   ],
   "metadata": {
    "collapsed": false,
    "pycharm": {
     "name": "#%%\n"
    }
   }
  },
  {
   "cell_type": "code",
   "execution_count": 3,
   "outputs": [],
   "source": [
    "para = '''\n",
    "    The changes in the urban landscape go mostly unnoticed compared to that in villages, especially in developing countries. The overall village scene appears with a new look after even minor changes occurring there. The rural look in Bangladesh has undergone radical transformations in the last 3-4 decades. Prior to this period, the villages virtually remained stuck in time, one that does not move.\n",
    "\n",
    "Even the period shortly after the independence of Bangladesh has not seen much perceptible change in the rural panorama. The leftovers of the past squalor from colonial and neo-colonial rules still pervaded the scene. The rural masses were trapped in extreme poverty, economic hardship and scores of deprivations coupled with deep-seated helplessness. Feuds sparked by irrational acrimony and desperation ruled the roost, so did suspicion and the tendency to become spiteful for petty reasons. The days of these maladies were a reality in the period spanning from the 1970s to the 1980s.\n",
    "\n",
    "In the days before independence, the chronic poverty in the country's villages comprised a dominant place among the common rural features. To the newer generations in the second decade of the 21st century many earlier rural scenes might seem incredible. During winters these days hardly any poor villager is found shivering in cold due to the dearth of warm clothing. Yet the whole season of winter used to be seen wear away with most of the villagers enduring the bite of cold. People wrapped in thin woolen shawl or wearing a shirt and shoes would be considered lucky or privileged. The elders' common winter wear in those days generally included a worn-out cotton 'chadar' and lungi. Most of them moved barefoot outside their homes, with an earthen pot filled with simmering bran ashes (Ailla) in their lap. Few small children owned a shirt. They would be found covered from ankle to neck with the lungis of their fathers or other elders. The upper end of the improvised winter garment remained tied in a knot at the neck. The thatched or mud-built huts were ramshackle, virtually ineffective in blocking the chilly air.\n",
    "\n",
    "Winter in most of today's Bangladesh villages is full of colours, not much different from the urban spectacles. Males wearing coats, jackets and pullovers, women covered in fancifully designed shawls are a common view. In many rural areas, makeshift dwellings have been replaced by houses built with corrugated iron sheets. These are interspersed by brick-built buildings.\n",
    "\n",
    "'''"
   ],
   "metadata": {
    "collapsed": false,
    "pycharm": {
     "name": "#%%\n"
    }
   }
  },
  {
   "cell_type": "code",
   "execution_count": 4,
   "outputs": [
    {
     "data": {
      "text/plain": "['\\n    The changes in the urban landscape go mostly unnoticed compared to that in villages, especially in developing countries.',\n 'The overall village scene appears with a new look after even minor changes occurring there.',\n 'The rural look in Bangladesh has undergone radical transformations in the last 3-4 decades.',\n 'Prior to this period, the villages virtually remained stuck in time, one that does not move.',\n 'Even the period shortly after the independence of Bangladesh has not seen much perceptible change in the rural panorama.',\n 'The leftovers of the past squalor from colonial and neo-colonial rules still pervaded the scene.',\n 'The rural masses were trapped in extreme poverty, economic hardship and scores of deprivations coupled with deep-seated helplessness.',\n 'Feuds sparked by irrational acrimony and desperation ruled the roost, so did suspicion and the tendency to become spiteful for petty reasons.',\n 'The days of these maladies were a reality in the period spanning from the 1970s to the 1980s.',\n \"In the days before independence, the chronic poverty in the country's villages comprised a dominant place among the common rural features.\",\n 'To the newer generations in the second decade of the 21st century many earlier rural scenes might seem incredible.',\n 'During winters these days hardly any poor villager is found shivering in cold due to the dearth of warm clothing.',\n 'Yet the whole season of winter used to be seen wear away with most of the villagers enduring the bite of cold.',\n 'People wrapped in thin woolen shawl or wearing a shirt and shoes would be considered lucky or privileged.',\n \"The elders' common winter wear in those days generally included a worn-out cotton 'chadar' and lungi.\",\n 'Most of them moved barefoot outside their homes, with an earthen pot filled with simmering bran ashes (Ailla) in their lap.',\n 'Few small children owned a shirt.',\n 'They would be found covered from ankle to neck with the lungis of their fathers or other elders.',\n 'The upper end of the improvised winter garment remained tied in a knot at the neck.',\n 'The thatched or mud-built huts were ramshackle, virtually ineffective in blocking the chilly air.',\n \"Winter in most of today's Bangladesh villages is full of colours, not much different from the urban spectacles.\",\n 'Males wearing coats, jackets and pullovers, women covered in fancifully designed shawls are a common view.',\n 'In many rural areas, makeshift dwellings have been replaced by houses built with corrugated iron sheets.',\n 'These are interspersed by brick-built buildings.']"
     },
     "execution_count": 4,
     "metadata": {},
     "output_type": "execute_result"
    }
   ],
   "source": [
    "\n",
    "# tokenize sentence\n",
    "\n",
    "sentences = nltk.sent_tokenize(para)\n",
    "sentences"
   ],
   "metadata": {
    "collapsed": false,
    "pycharm": {
     "name": "#%%\n"
    }
   }
  },
  {
   "cell_type": "code",
   "execution_count": 5,
   "outputs": [
    {
     "data": {
      "text/plain": "['The',\n 'changes',\n 'in',\n 'the',\n 'urban',\n 'landscape',\n 'go',\n 'mostly',\n 'unnoticed',\n 'compared',\n 'to',\n 'that',\n 'in',\n 'villages',\n ',',\n 'especially',\n 'in',\n 'developing',\n 'countries',\n '.',\n 'The',\n 'overall',\n 'village',\n 'scene',\n 'appears',\n 'with',\n 'a',\n 'new',\n 'look',\n 'after',\n 'even',\n 'minor',\n 'changes',\n 'occurring',\n 'there',\n '.',\n 'The',\n 'rural',\n 'look',\n 'in',\n 'Bangladesh',\n 'has',\n 'undergone',\n 'radical',\n 'transformations',\n 'in',\n 'the',\n 'last',\n '3-4',\n 'decades',\n '.',\n 'Prior',\n 'to',\n 'this',\n 'period',\n ',',\n 'the',\n 'villages',\n 'virtually',\n 'remained',\n 'stuck',\n 'in',\n 'time',\n ',',\n 'one',\n 'that',\n 'does',\n 'not',\n 'move',\n '.',\n 'Even',\n 'the',\n 'period',\n 'shortly',\n 'after',\n 'the',\n 'independence',\n 'of',\n 'Bangladesh',\n 'has',\n 'not',\n 'seen',\n 'much',\n 'perceptible',\n 'change',\n 'in',\n 'the',\n 'rural',\n 'panorama',\n '.',\n 'The',\n 'leftovers',\n 'of',\n 'the',\n 'past',\n 'squalor',\n 'from',\n 'colonial',\n 'and',\n 'neo-colonial',\n 'rules',\n 'still',\n 'pervaded',\n 'the',\n 'scene',\n '.',\n 'The',\n 'rural',\n 'masses',\n 'were',\n 'trapped',\n 'in',\n 'extreme',\n 'poverty',\n ',',\n 'economic',\n 'hardship',\n 'and',\n 'scores',\n 'of',\n 'deprivations',\n 'coupled',\n 'with',\n 'deep-seated',\n 'helplessness',\n '.',\n 'Feuds',\n 'sparked',\n 'by',\n 'irrational',\n 'acrimony',\n 'and',\n 'desperation',\n 'ruled',\n 'the',\n 'roost',\n ',',\n 'so',\n 'did',\n 'suspicion',\n 'and',\n 'the',\n 'tendency',\n 'to',\n 'become',\n 'spiteful',\n 'for',\n 'petty',\n 'reasons',\n '.',\n 'The',\n 'days',\n 'of',\n 'these',\n 'maladies',\n 'were',\n 'a',\n 'reality',\n 'in',\n 'the',\n 'period',\n 'spanning',\n 'from',\n 'the',\n '1970s',\n 'to',\n 'the',\n '1980s',\n '.',\n 'In',\n 'the',\n 'days',\n 'before',\n 'independence',\n ',',\n 'the',\n 'chronic',\n 'poverty',\n 'in',\n 'the',\n 'country',\n \"'s\",\n 'villages',\n 'comprised',\n 'a',\n 'dominant',\n 'place',\n 'among',\n 'the',\n 'common',\n 'rural',\n 'features',\n '.',\n 'To',\n 'the',\n 'newer',\n 'generations',\n 'in',\n 'the',\n 'second',\n 'decade',\n 'of',\n 'the',\n '21st',\n 'century',\n 'many',\n 'earlier',\n 'rural',\n 'scenes',\n 'might',\n 'seem',\n 'incredible',\n '.',\n 'During',\n 'winters',\n 'these',\n 'days',\n 'hardly',\n 'any',\n 'poor',\n 'villager',\n 'is',\n 'found',\n 'shivering',\n 'in',\n 'cold',\n 'due',\n 'to',\n 'the',\n 'dearth',\n 'of',\n 'warm',\n 'clothing',\n '.',\n 'Yet',\n 'the',\n 'whole',\n 'season',\n 'of',\n 'winter',\n 'used',\n 'to',\n 'be',\n 'seen',\n 'wear',\n 'away',\n 'with',\n 'most',\n 'of',\n 'the',\n 'villagers',\n 'enduring',\n 'the',\n 'bite',\n 'of',\n 'cold',\n '.',\n 'People',\n 'wrapped',\n 'in',\n 'thin',\n 'woolen',\n 'shawl',\n 'or',\n 'wearing',\n 'a',\n 'shirt',\n 'and',\n 'shoes',\n 'would',\n 'be',\n 'considered',\n 'lucky',\n 'or',\n 'privileged',\n '.',\n 'The',\n 'elders',\n \"'\",\n 'common',\n 'winter',\n 'wear',\n 'in',\n 'those',\n 'days',\n 'generally',\n 'included',\n 'a',\n 'worn-out',\n 'cotton',\n \"'chadar\",\n \"'\",\n 'and',\n 'lungi',\n '.',\n 'Most',\n 'of',\n 'them',\n 'moved',\n 'barefoot',\n 'outside',\n 'their',\n 'homes',\n ',',\n 'with',\n 'an',\n 'earthen',\n 'pot',\n 'filled',\n 'with',\n 'simmering',\n 'bran',\n 'ashes',\n '(',\n 'Ailla',\n ')',\n 'in',\n 'their',\n 'lap',\n '.',\n 'Few',\n 'small',\n 'children',\n 'owned',\n 'a',\n 'shirt',\n '.',\n 'They',\n 'would',\n 'be',\n 'found',\n 'covered',\n 'from',\n 'ankle',\n 'to',\n 'neck',\n 'with',\n 'the',\n 'lungis',\n 'of',\n 'their',\n 'fathers',\n 'or',\n 'other',\n 'elders',\n '.',\n 'The',\n 'upper',\n 'end',\n 'of',\n 'the',\n 'improvised',\n 'winter',\n 'garment',\n 'remained',\n 'tied',\n 'in',\n 'a',\n 'knot',\n 'at',\n 'the',\n 'neck',\n '.',\n 'The',\n 'thatched',\n 'or',\n 'mud-built',\n 'huts',\n 'were',\n 'ramshackle',\n ',',\n 'virtually',\n 'ineffective',\n 'in',\n 'blocking',\n 'the',\n 'chilly',\n 'air',\n '.',\n 'Winter',\n 'in',\n 'most',\n 'of',\n 'today',\n \"'s\",\n 'Bangladesh',\n 'villages',\n 'is',\n 'full',\n 'of',\n 'colours',\n ',',\n 'not',\n 'much',\n 'different',\n 'from',\n 'the',\n 'urban',\n 'spectacles',\n '.',\n 'Males',\n 'wearing',\n 'coats',\n ',',\n 'jackets',\n 'and',\n 'pullovers',\n ',',\n 'women',\n 'covered',\n 'in',\n 'fancifully',\n 'designed',\n 'shawls',\n 'are',\n 'a',\n 'common',\n 'view',\n '.',\n 'In',\n 'many',\n 'rural',\n 'areas',\n ',',\n 'makeshift',\n 'dwellings',\n 'have',\n 'been',\n 'replaced',\n 'by',\n 'houses',\n 'built',\n 'with',\n 'corrugated',\n 'iron',\n 'sheets',\n '.',\n 'These',\n 'are',\n 'interspersed',\n 'by',\n 'brick-built',\n 'buildings',\n '.']"
     },
     "execution_count": 5,
     "metadata": {},
     "output_type": "execute_result"
    }
   ],
   "source": [
    "\n",
    "# tokenize word\n",
    "\n",
    "words = nltk.word_tokenize(para)\n",
    "words"
   ],
   "metadata": {
    "collapsed": false,
    "pycharm": {
     "name": "#%%\n"
    }
   }
  }
 ],
 "metadata": {
  "kernelspec": {
   "display_name": "Python 3",
   "language": "python",
   "name": "python3"
  },
  "language_info": {
   "codemirror_mode": {
    "name": "ipython",
    "version": 2
   },
   "file_extension": ".py",
   "mimetype": "text/x-python",
   "name": "python",
   "nbconvert_exporter": "python",
   "pygments_lexer": "ipython2",
   "version": "2.7.6"
  }
 },
 "nbformat": 4,
 "nbformat_minor": 0
}