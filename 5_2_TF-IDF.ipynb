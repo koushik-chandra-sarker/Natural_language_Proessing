{
 "cells": [
  {
   "cell_type": "code",
   "execution_count": 1,
   "metadata": {
    "collapsed": true,
    "pycharm": {
     "name": "#%%\n"
    }
   },
   "outputs": [],
   "source": [
    "import re  # regular expressions\n",
    "\n",
    "import nltk\n",
    "from nltk import WordNetLemmatizer\n",
    "from nltk.corpus import stopwords\n",
    "\n"
   ]
  },
  {
   "cell_type": "code",
   "execution_count": 2,
   "outputs": [],
   "source": [
    "doc = 'Game of Thrones is an amazing tv series! Game of Thrones is the best tv series! Game of Thrones is so great'\n"
   ],
   "metadata": {
    "collapsed": false,
    "pycharm": {
     "name": "#%%\n"
    }
   }
  },
  {
   "cell_type": "code",
   "execution_count": 3,
   "outputs": [],
   "source": [
    "\n",
    "lemmatizer = WordNetLemmatizer()\n",
    "sentences = nltk.sent_tokenize(doc)\n",
    "corpus = []\n",
    "for i in range(len(sentences)):\n",
    "    review = re.sub('[^a-zA-Z]', ' ', sentences[i])  # remove all non-alphabetical characters\n",
    "    review = review.lower()  # convert to lower case\n",
    "    review = review.split()  # split into words\n",
    "    review = [lemmatizer.lemmatize(word) for word in review if\n",
    "              not word in set(stopwords.words('english'))]  # remove stopwords\n",
    "    review = ' '.join(review)  # join back into a string\n",
    "    corpus.append(review)  # append to the corpus list for later use in the model\n"
   ],
   "metadata": {
    "collapsed": false,
    "pycharm": {
     "name": "#%%\n"
    }
   }
  },
  {
   "cell_type": "code",
   "execution_count": 4,
   "outputs": [],
   "source": [
    "# create a TF-IDF model\n",
    "from sklearn.feature_extraction.text import TfidfVectorizer\n",
    "cv = TfidfVectorizer()\n",
    "X = cv.fit_transform(corpus).toarray()\n"
   ],
   "metadata": {
    "collapsed": false,
    "pycharm": {
     "name": "#%%\n"
    }
   }
  },
  {
   "cell_type": "code",
   "execution_count": 5,
   "outputs": [
    {
     "data": {
      "text/plain": "    amazing      best      game     great    series    throne        tv\n0  0.591887  0.000000  0.349578  0.000000  0.450145  0.349578  0.450145\n1  0.000000  0.591887  0.349578  0.000000  0.450145  0.349578  0.450145\n2  0.000000  0.000000  0.453295  0.767495  0.000000  0.453295  0.000000",
      "text/html": "<div>\n<style scoped>\n    .dataframe tbody tr th:only-of-type {\n        vertical-align: middle;\n    }\n\n    .dataframe tbody tr th {\n        vertical-align: top;\n    }\n\n    .dataframe thead th {\n        text-align: right;\n    }\n</style>\n<table border=\"1\" class=\"dataframe\">\n  <thead>\n    <tr style=\"text-align: right;\">\n      <th></th>\n      <th>amazing</th>\n      <th>best</th>\n      <th>game</th>\n      <th>great</th>\n      <th>series</th>\n      <th>throne</th>\n      <th>tv</th>\n    </tr>\n  </thead>\n  <tbody>\n    <tr>\n      <th>0</th>\n      <td>0.591887</td>\n      <td>0.000000</td>\n      <td>0.349578</td>\n      <td>0.000000</td>\n      <td>0.450145</td>\n      <td>0.349578</td>\n      <td>0.450145</td>\n    </tr>\n    <tr>\n      <th>1</th>\n      <td>0.000000</td>\n      <td>0.591887</td>\n      <td>0.349578</td>\n      <td>0.000000</td>\n      <td>0.450145</td>\n      <td>0.349578</td>\n      <td>0.450145</td>\n    </tr>\n    <tr>\n      <th>2</th>\n      <td>0.000000</td>\n      <td>0.000000</td>\n      <td>0.453295</td>\n      <td>0.767495</td>\n      <td>0.000000</td>\n      <td>0.453295</td>\n      <td>0.000000</td>\n    </tr>\n  </tbody>\n</table>\n</div>"
     },
     "execution_count": 5,
     "metadata": {},
     "output_type": "execute_result"
    }
   ],
   "source": [
    "# show all data in table\n",
    "import pandas as pd\n",
    "pd.DataFrame(X, columns=cv.get_feature_names_out())"
   ],
   "metadata": {
    "collapsed": false,
    "pycharm": {
     "name": "#%%\n"
    }
   }
  }
 ],
 "metadata": {
  "kernelspec": {
   "display_name": "Python 3",
   "language": "python",
   "name": "python3"
  },
  "language_info": {
   "codemirror_mode": {
    "name": "ipython",
    "version": 2
   },
   "file_extension": ".py",
   "mimetype": "text/x-python",
   "name": "python",
   "nbconvert_exporter": "python",
   "pygments_lexer": "ipython2",
   "version": "2.7.6"
  }
 },
 "nbformat": 4,
 "nbformat_minor": 0
}