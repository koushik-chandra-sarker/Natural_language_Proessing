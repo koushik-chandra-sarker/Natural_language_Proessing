{
 "cells": [
  {
   "cell_type": "markdown",
   "source": [
    "# Lemmatization:\n",
    "We want to extract the base form of the word here. The word extracted here is called Lemma and it is available in the dictionary. We have the WordNet corpus and the lemma generated will be available in this corpus. NLTK provides us with the WordNet Lemmatizer that makes use of the WordNet Database to lookup lemmas of words.\n",
    "\n"
   ],
   "metadata": {
    "collapsed": false,
    "pycharm": {
     "name": "#%% md\n"
    }
   }
  },
  {
   "cell_type": "code",
   "execution_count": 1,
   "outputs": [],
   "source": [
    "import nltk\n",
    "\n",
    "# nltk.download()  # if you use nltk very first in you pc then execute this line\n",
    "from nltk import  WordNetLemmatizer\n",
    "from nltk.corpus import stopwords"
   ],
   "metadata": {
    "collapsed": false,
    "pycharm": {
     "name": "#%%\n"
    }
   }
  },
  {
   "cell_type": "code",
   "execution_count": 2,
   "outputs": [],
   "source": [
    "para = '''\n",
    "    The changes in the urban landscape go mostly unnoticed compared to that in villages, especially in developing countries. The overall village scene appears with a new look after even minor changes occurring there. The rural look in Bangladesh has undergone radical transformations in the last 3-4 decades. Prior to this period, the villages virtually remained stuck in time, one that does not move.\n",
    "\n",
    "Even the period shortly after the independence of Bangladesh has not seen much perceptible change in the rural panorama. The leftovers of the past squalor from colonial and neo-colonial rules still pervaded the scene. The rural masses were trapped in extreme poverty, economic hardship and scores of deprivations coupled with deep-seated helplessness. Feuds sparked by irrational acrimony and desperation ruled the roost, so did suspicion and the tendency to become spiteful for petty reasons. The days of these maladies were a reality in the period spanning from the 1970s to the 1980s.\n",
    "\n",
    "In the days before independence, the chronic poverty in the country's villages comprised a dominant place among the common rural features. To the newer generations in the second decade of the 21st century many earlier rural scenes might seem incredible. During winters these days hardly any poor villager is found shivering in cold due to the dearth of warm clothing. Yet the whole season of winter used to be seen wear away with most of the villagers enduring the bite of cold. People wrapped in thin woolen shawl or wearing a shirt and shoes would be considered lucky or privileged. The elders' common winter wear in those days generally included a worn-out cotton 'chadar' and lungi. Most of them moved barefoot outside their homes, with an earthen pot filled with simmering bran ashes (Ailla) in their lap. Few small children owned a shirt. They would be found covered from ankle to neck with the lungis of their fathers or other elders. The upper end of the improvised winter garment remained tied in a knot at the neck. The thatched or mud-built huts were ramshackle, virtually ineffective in blocking the chilly air.\n",
    "\n",
    "Winter in most of today's Bangladesh villages is full of colours, not much different from the urban spectacles. Males wearing coats, jackets and pullovers, women covered in fancifully designed shawls are a common view. In many rural areas, makeshift dwellings have been replaced by houses built with corrugated iron sheets. These are interspersed by brick-built buildings.\n",
    "\n",
    "'''"
   ],
   "metadata": {
    "collapsed": false,
    "pycharm": {
     "name": "#%%\n"
    }
   }
  },
  {
   "cell_type": "code",
   "execution_count": 3,
   "outputs": [],
   "source": [
    "\n",
    "# tokenize sentence\n",
    "\n",
    "sentences = nltk.sent_tokenize(para)\n",
    "\n",
    "# create an instance of nltk Stammer\n",
    "lemmatizer = WordNetLemmatizer()\n",
    "\n",
    "# Stemming\n",
    "for i in range(len(sentences)):\n",
    "    words  = nltk.word_tokenize(sentences[i])\n",
    "    words = [lemmatizer.lemmatize(word) for word in words if word not in set(stopwords.words('english'))]\n",
    "    sentences[i] = ' '.join(words)"
   ],
   "metadata": {
    "collapsed": false,
    "pycharm": {
     "name": "#%%\n"
    }
   }
  },
  {
   "cell_type": "code",
   "execution_count": 4,
   "outputs": [
    {
     "data": {
      "text/plain": "['The change urban landscape go mostly unnoticed compared village , especially developing country .',\n 'The overall village scene appears new look even minor change occurring .',\n 'The rural look Bangladesh undergone radical transformation last 3-4 decade .',\n 'Prior period , village virtually remained stuck time , one move .',\n 'Even period shortly independence Bangladesh seen much perceptible change rural panorama .',\n 'The leftover past squalor colonial neo-colonial rule still pervaded scene .',\n 'The rural mass trapped extreme poverty , economic hardship score deprivation coupled deep-seated helplessness .',\n 'Feuds sparked irrational acrimony desperation ruled roost , suspicion tendency become spiteful petty reason .',\n 'The day malady reality period spanning 1970s 1980s .',\n \"In day independence , chronic poverty country 's village comprised dominant place among common rural feature .\",\n 'To newer generation second decade 21st century many earlier rural scene might seem incredible .',\n 'During winter day hardly poor villager found shivering cold due dearth warm clothing .',\n 'Yet whole season winter used seen wear away villager enduring bite cold .',\n 'People wrapped thin woolen shawl wearing shirt shoe would considered lucky privileged .',\n \"The elder ' common winter wear day generally included worn-out cotton 'chadar ' lungi .\",\n 'Most moved barefoot outside home , earthen pot filled simmering bran ash ( Ailla ) lap .',\n 'Few small child owned shirt .',\n 'They would found covered ankle neck lungi father elder .',\n 'The upper end improvised winter garment remained tied knot neck .',\n 'The thatched mud-built hut ramshackle , virtually ineffective blocking chilly air .',\n \"Winter today 's Bangladesh village full colour , much different urban spectacle .\",\n 'Males wearing coat , jacket pullover , woman covered fancifully designed shawl common view .',\n 'In many rural area , makeshift dwelling replaced house built corrugated iron sheet .',\n 'These interspersed brick-built building .']"
     },
     "execution_count": 4,
     "metadata": {},
     "output_type": "execute_result"
    }
   ],
   "source": [
    "sentences"
   ],
   "metadata": {
    "collapsed": false,
    "pycharm": {
     "name": "#%%\n"
    }
   }
  },
  {
   "cell_type": "markdown",
   "source": [
    "## Stemming is much faster than lemmatization as it doesn’t need to lookup in the dictionary and just follows the algorithm to generate the root words."
   ],
   "metadata": {
    "collapsed": false,
    "pycharm": {
     "name": "#%% md\n"
    }
   }
  },
  {
   "cell_type": "code",
   "execution_count": 4,
   "outputs": [],
   "source": [],
   "metadata": {
    "collapsed": false,
    "pycharm": {
     "name": "#%%\n"
    }
   }
  }
 ],
 "metadata": {
  "kernelspec": {
   "display_name": "Python 3",
   "language": "python",
   "name": "python3"
  },
  "language_info": {
   "codemirror_mode": {
    "name": "ipython",
    "version": 2
   },
   "file_extension": ".py",
   "mimetype": "text/x-python",
   "name": "python",
   "nbconvert_exporter": "python",
   "pygments_lexer": "ipython2",
   "version": "2.7.6"
  }
 },
 "nbformat": 4,
 "nbformat_minor": 0
}