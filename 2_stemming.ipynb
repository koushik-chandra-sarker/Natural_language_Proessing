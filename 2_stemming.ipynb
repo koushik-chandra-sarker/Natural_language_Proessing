{
 "cells": [
  {
   "cell_type": "markdown",
   "source": [
    "# Stop Words removal:\n",
    "When we use the features from a text to model, we will encounter a lot of noise. These are the stop words like the, he, her, etc… which don’t help us and, just be removed before processing for cleaner processing inside the model. With NLTK we can see all the stop words available in the English language.\n",
    "## print(stopwords.words(\"english\"))\n",
    "## output->\n",
    "['i', 'me', 'my', 'myself', 'we', 'our', 'ours', 'ourselves', 'you', \"you're\", \"you've\", \"you'll\", \"you'd\", 'your', 'yours', 'yourself', 'yourselves', 'he', 'him', 'his', 'himself', 'she', \"she's\", 'her', 'hers', 'herself', 'it', \"it's\", 'its', 'itself', 'they', 'them', 'their', 'theirs', 'themselves', 'what', 'which', 'who', 'whom', 'this', 'that', \"that'll\", 'these', 'those', 'am', 'is', 'are', 'was', 'were', 'be', 'been', 'being', 'have', 'has', 'had', 'having', 'do', 'does', 'did', 'doing', 'a', 'an', 'the', 'and', 'but', 'if', 'or', 'because', 'as', 'until', 'while', 'of', 'at', 'by', 'for', 'with', 'about', 'against', 'between', 'into', 'through', 'during', 'before', 'after', 'above', 'below', 'to', 'from', 'up', 'down', 'in', 'out', 'on', 'off', 'over', 'under', 'again', 'further', 'then', 'once', 'here', 'there', 'when', 'where', 'why', 'how', 'all', 'any', 'both', 'each', 'few', 'more', 'most', 'other', 'some', 'such', 'no', 'nor', 'not', 'only', 'own', 'same', 'so', 'than', 'too', 'very', 's', 't', 'can', 'will', 'just', 'don', \"don't\", 'should', \"should've\", 'now', 'd', 'll', 'm', 'o', 're', 've', 'y', 'ain', 'aren', \"aren't\", 'couldn', \"couldn't\", 'didn', \"didn't\", 'doesn', \"doesn't\", 'hadn', \"hadn't\", 'hasn', \"hasn't\", 'haven', \"haven't\", 'isn', \"isn't\", 'ma', 'mightn', \"mightn't\", 'mustn', \"mustn't\", 'needn', \"needn't\", 'shan', \"shan't\", 'shouldn', \"shouldn't\", 'wasn', \"wasn't\", 'weren', \"weren't\", 'won', \"won't\", 'wouldn', \"wouldn't\"]\n",
    "\n"
   ],
   "metadata": {
    "collapsed": false,
    "pycharm": {
     "name": "#%% md\n"
    }
   }
  },
  {
   "cell_type": "code",
   "execution_count": 1,
   "outputs": [],
   "source": [
    "import nltk\n",
    "\n",
    "# nltk.download()  # if you use nltk very first in you pc then execute this line\n",
    "from nltk import PorterStemmer\n",
    "from nltk.corpus import stopwords"
   ],
   "metadata": {
    "collapsed": false,
    "pycharm": {
     "name": "#%%\n"
    }
   }
  },
  {
   "cell_type": "code",
   "execution_count": 2,
   "outputs": [],
   "source": [
    "para = '''\n",
    "    The changes in the urban landscape go mostly unnoticed compared to that in villages, especially in developing countries. The overall village scene appears with a new look after even minor changes occurring there. The rural look in Bangladesh has undergone radical transformations in the last 3-4 decades. Prior to this period, the villages virtually remained stuck in time, one that does not move.\n",
    "\n",
    "Even the period shortly after the independence of Bangladesh has not seen much perceptible change in the rural panorama. The leftovers of the past squalor from colonial and neo-colonial rules still pervaded the scene. The rural masses were trapped in extreme poverty, economic hardship and scores of deprivations coupled with deep-seated helplessness. Feuds sparked by irrational acrimony and desperation ruled the roost, so did suspicion and the tendency to become spiteful for petty reasons. The days of these maladies were a reality in the period spanning from the 1970s to the 1980s.\n",
    "\n",
    "In the days before independence, the chronic poverty in the country's villages comprised a dominant place among the common rural features. To the newer generations in the second decade of the 21st century many earlier rural scenes might seem incredible. During winters these days hardly any poor villager is found shivering in cold due to the dearth of warm clothing. Yet the whole season of winter used to be seen wear away with most of the villagers enduring the bite of cold. People wrapped in thin woolen shawl or wearing a shirt and shoes would be considered lucky or privileged. The elders' common winter wear in those days generally included a worn-out cotton 'chadar' and lungi. Most of them moved barefoot outside their homes, with an earthen pot filled with simmering bran ashes (Ailla) in their lap. Few small children owned a shirt. They would be found covered from ankle to neck with the lungis of their fathers or other elders. The upper end of the improvised winter garment remained tied in a knot at the neck. The thatched or mud-built huts were ramshackle, virtually ineffective in blocking the chilly air.\n",
    "\n",
    "Winter in most of today's Bangladesh villages is full of colours, not much different from the urban spectacles. Males wearing coats, jackets and pullovers, women covered in fancifully designed shawls are a common view. In many rural areas, makeshift dwellings have been replaced by houses built with corrugated iron sheets. These are interspersed by brick-built buildings.\n",
    "\n",
    "'''"
   ],
   "metadata": {
    "collapsed": false,
    "pycharm": {
     "name": "#%%\n"
    }
   }
  },
  {
   "cell_type": "code",
   "execution_count": 3,
   "outputs": [],
   "source": [
    "\n",
    "# tokenize sentence\n",
    "\n",
    "sentences = nltk.sent_tokenize(para)\n",
    "\n",
    "# create an instance of nltk Stammer\n",
    "stemmer = PorterStemmer()\n",
    "\n",
    "# Stemming\n",
    "for i in range(len(sentences)):\n",
    "    words  = nltk.word_tokenize(sentences[i])\n",
    "    words = [stemmer.stem(word) for word in words if word not in set(stopwords.words('english'))]\n",
    "    sentences[i] = ' '.join(words)"
   ],
   "metadata": {
    "collapsed": false,
    "pycharm": {
     "name": "#%%\n"
    }
   }
  },
  {
   "cell_type": "code",
   "execution_count": 4,
   "outputs": [
    {
     "data": {
      "text/plain": "['the chang urban landscap go mostli unnot compar villag , especi develop countri .',\n 'the overal villag scene appear new look even minor chang occur .',\n 'the rural look bangladesh undergon radic transform last 3-4 decad .',\n 'prior period , villag virtual remain stuck time , one move .',\n 'even period shortli independ bangladesh seen much percept chang rural panorama .',\n 'the leftov past squalor coloni neo-coloni rule still pervad scene .',\n 'the rural mass trap extrem poverti , econom hardship score depriv coupl deep-seat helpless .',\n 'feud spark irrat acrimoni desper rule roost , suspicion tendenc becom spite petti reason .',\n 'the day maladi realiti period span 1970 1980 .',\n \"in day independ , chronic poverti countri 's villag compris domin place among common rural featur .\",\n 'to newer gener second decad 21st centuri mani earlier rural scene might seem incred .',\n 'dure winter day hardli poor villag found shiver cold due dearth warm cloth .',\n 'yet whole season winter use seen wear away villag endur bite cold .',\n 'peopl wrap thin woolen shawl wear shirt shoe would consid lucki privileg .',\n \"the elder ' common winter wear day gener includ worn-out cotton 'chadar ' lungi .\",\n 'most move barefoot outsid home , earthen pot fill simmer bran ash ( ailla ) lap .',\n 'few small children own shirt .',\n 'they would found cover ankl neck lungi father elder .',\n 'the upper end improvis winter garment remain tie knot neck .',\n 'the thatch mud-built hut ramshackl , virtual ineffect block chilli air .',\n \"winter today 's bangladesh villag full colour , much differ urban spectacl .\",\n 'male wear coat , jacket pullov , women cover fanci design shawl common view .',\n 'in mani rural area , makeshift dwell replac hous built corrug iron sheet .',\n 'these interspers brick-built build .']"
     },
     "execution_count": 4,
     "metadata": {},
     "output_type": "execute_result"
    }
   ],
   "source": [
    "sentences"
   ],
   "metadata": {
    "collapsed": false,
    "pycharm": {
     "name": "#%%\n"
    }
   }
  }
 ],
 "metadata": {
  "kernelspec": {
   "display_name": "Python 3",
   "language": "python",
   "name": "python3"
  },
  "language_info": {
   "codemirror_mode": {
    "name": "ipython",
    "version": 2
   },
   "file_extension": ".py",
   "mimetype": "text/x-python",
   "name": "python",
   "nbconvert_exporter": "python",
   "pygments_lexer": "ipython2",
   "version": "2.7.6"
  }
 },
 "nbformat": 4,
 "nbformat_minor": 0
}